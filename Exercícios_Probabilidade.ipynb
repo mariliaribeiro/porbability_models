{
  "nbformat": 4,
  "nbformat_minor": 0,
  "metadata": {
    "colab": {
      "name": "Exercícios Probabilidade.ipynb",
      "provenance": [],
      "authorship_tag": "ABX9TyMU7im+MpSPlFvu1A0i2MnF",
      "include_colab_link": true
    },
    "kernelspec": {
      "name": "python3",
      "display_name": "Python 3"
    },
    "language_info": {
      "name": "python"
    }
  },
  "cells": [
    {
      "cell_type": "markdown",
      "metadata": {
        "id": "view-in-github",
        "colab_type": "text"
      },
      "source": [
        "<a href=\"https://colab.research.google.com/github/mariliaribeiro/porbability_models/blob/main/Exerc%C3%ADcios_Probabilidade.ipynb\" target=\"_parent\"><img src=\"https://colab.research.google.com/assets/colab-badge.svg\" alt=\"Open In Colab\"/></a>"
      ]
    },
    {
      "cell_type": "code",
      "metadata": {
        "id": "LYh0iVVV0xUs"
      },
      "source": [
        "%load_ext rpy2.ipython"
      ],
      "execution_count": null,
      "outputs": []
    },
    {
      "cell_type": "markdown",
      "metadata": {
        "id": "ZBlho2bI7z1x"
      },
      "source": [
        "# Binonmial (VA Discreta)"
      ]
    },
    {
      "cell_type": "markdown",
      "metadata": {
        "id": "pINLH8be2dIh"
      },
      "source": [
        "## Distribuição Binomial\n",
        "\n",
        "**Utilizando o Microsoft Excel:**\n",
        "\n",
        "Distribuição Binomial para o cálculo de P(X=x): `=DISTR.BINOM(x;n;p;FALSO)`\n",
        "\n",
        "\n",
        "Distribuição Binomial para o cálculo de P(0<X<x): `=DISTR.BINOM(x;n;p;VERDADEIRO)`*\n",
        "\n",
        "\n",
        "> *Os resultados exibidos mostrarão a probabilidade acumulada!\n",
        "\n",
        "\n",
        "\n",
        "**Utilizando o R:**\n",
        "\n",
        "Distribuição Binomial para o cálculo de P(X=x): `dbinom(x, size, prob, log=FALSE)`\n",
        "\n",
        "Distribuição Binomial para o cálculo de P(0<=X<=x): `pbinom(x, size, prob, lower.tail=TRUE, log=FALSE)`\n",
        "\n",
        "\n",
        "onde:\n",
        "- `size = n`\n",
        "- `prob = p`\n",
        "- `lower.tail=TRUE` → Fornece a probabilidade acumulada → P(X<=x)\n",
        "- `lower.tail=FALSE` → Fornece a probabilidade acima de x → P(X>x)\n",
        "- `log=FALSE` → Fornece as probabilidades numéricas e não em escala logarítmica."
      ]
    },
    {
      "cell_type": "markdown",
      "metadata": {
        "id": "ak53UpZ4qWsB"
      },
      "source": [
        "## Exemplo 1\n",
        "\n",
        "Suponha que 5% de todas as peças que saiam de uma linha de produção\n",
        "sejam defeituosas. Se 10 dessas peças forem escolhidas e inspecionadas,\n",
        "pede-se:\n",
        "\n",
        "Observe que temos:\n",
        "- Um experimento com somente duas opções de resposta (peças\n",
        "defeituosas ou não defeituosas);\n",
        "- Um número fixo e independente de vezes que o experimento será\n",
        "repetido (10 amostras);\n",
        "- A probabilidade de peças defeituosas é constante p=0,05 e,\n",
        "consequentemente, a probabilidade de peças não defeituosas q=1-\n",
        "p=0,95.\n",
        "Dessa forma, podemos dizer que o modelo binomial se adapta bem à\n",
        "situação proposta no exemplo, ou seja, X ~ B(10; 0,05),\n",
        "\n",
        "Calcule:\n",
        "- a) Identifique a variável aleatória estudada. Quais valores ela pode\n",
        "assumir? <br/>\n",
        "X: número de peças defeituosas produzidas <br/>\n",
        "x= 0, 1, 2,..., 10\n",
        "\n",
        "b) Calcule o número médio de peças defeituosas e, também, o desvio\n",
        "padrão\n",
        "\n",
        "c) Qual será a probabilidade de que:\n",
        "- i. Exatamente 7 sejam defeituosas.\n",
        "- ii. No máximo 2 sejam defeituosas.\n",
        "- iii. No máximo 8 sejam defeituosas.\n",
        "- iv. Mais de 7 sejam não defeituosas.\n"
      ]
    },
    {
      "cell_type": "code",
      "metadata": {
        "id": "AazUtMLNqZfA"
      },
      "source": [
        "%%R\n",
        "# Exemplo 1\n",
        "\n",
        "\n",
        "p <- 0.05\n",
        "q <- 1 - p\n",
        "n <- 10"
      ],
      "execution_count": null,
      "outputs": []
    },
    {
      "cell_type": "code",
      "metadata": {
        "colab": {
          "base_uri": "https://localhost:8080/"
        },
        "id": "wJ1Y30eQsqv6",
        "outputId": "050dcaeb-f13f-4b88-a1ef-93558e391f09"
      },
      "source": [
        "%%R\n",
        "# Exemplo 1 b\n",
        "med = n * p\n",
        "var = n * p * q\n",
        "dp = sqrt(var)\n",
        "\n",
        "print(med)\n",
        "print(var)\n",
        "print(dp)"
      ],
      "execution_count": null,
      "outputs": [
        {
          "output_type": "stream",
          "text": [
            "[1] 0.5\n",
            "[1] 0.475\n",
            "[1] 0.6892024\n"
          ],
          "name": "stdout"
        }
      ]
    },
    {
      "cell_type": "code",
      "metadata": {
        "colab": {
          "base_uri": "https://localhost:8080/"
        },
        "id": "Z3wwwsu3rxSj",
        "outputId": "f943ec34-4257-4417-ecf0-f4cc5bcd1532"
      },
      "source": [
        "%%R\n",
        "# Exemplo 1 c i\n",
        "# P(X = 7)\n",
        "\n",
        "# Excel\n",
        "# =DISTR.BINOM(7;10;0,05;FALSO)\n",
        "\n",
        "p7 <- dbinom(x=7,size=n,prob=p,log=FALSE)\n",
        "p7\n",
        "\n"
      ],
      "execution_count": null,
      "outputs": [
        {
          "output_type": "stream",
          "text": [
            "[1] 8.037891e-08\n"
          ],
          "name": "stdout"
        }
      ]
    },
    {
      "cell_type": "code",
      "metadata": {
        "colab": {
          "base_uri": "https://localhost:8080/"
        },
        "id": "Y9Wf1CdEtr2U",
        "outputId": "e6abef78-005f-4ab8-c5dd-3b9f82028ba1"
      },
      "source": [
        "%%R\n",
        "# Exemplo 1 c ii\n",
        "# P(X <= 2) = P(X = 0) + P(X = 1) + P(X = 2)\n",
        "\n",
        "# Excel\n",
        "# =DISTR.BINOM(2;10;0,05;VERDADEIRO)\n",
        "\n",
        "pbinom(2,size=n,prob=p,lower.tail=TRUE,log=FALSE)"
      ],
      "execution_count": null,
      "outputs": [
        {
          "output_type": "stream",
          "text": [
            "[1] 0.9884964\n"
          ],
          "name": "stdout"
        }
      ]
    },
    {
      "cell_type": "code",
      "metadata": {
        "colab": {
          "base_uri": "https://localhost:8080/"
        },
        "id": "7rS1Nc-KunL9",
        "outputId": "01cfaddf-deed-4823-9323-3949ea8aae65"
      },
      "source": [
        "%%R\n",
        "# Exemplo 1 c ii\n",
        "# P(X > 3) = 1 - P(X <= 3) = 1 - (P(X = 0) + P(X = 1) + P(X = 2) + + P(X = 3))\n",
        "\n",
        "# Excel\n",
        "# = 1 - DISTR.BINOM(3;10;0,05;VERDADEIRO)\n",
        "\n",
        "pbinom(3,size=n,prob=p,lower.tail=FALSE,log=FALSE)"
      ],
      "execution_count": null,
      "outputs": [
        {
          "output_type": "stream",
          "text": [
            "[1] 0.001028498\n"
          ],
          "name": "stdout"
        }
      ]
    },
    {
      "cell_type": "markdown",
      "metadata": {
        "id": "txvIS-k6719x"
      },
      "source": [
        "## Exercício 1\n",
        "\n",
        "Cada amostra de ar tem 10% de chance de conter uma certa molécula rara.\n",
        "Considere que as amostras sejam independentes com relação à presença\n",
        "da molécula rara. Encontre a probabilidade de que nas próximas 18\n",
        "amostras:\n",
        "\n",
        "- a) Exatamente 2 contenham a molécula rara.\n",
        "- b) No mínimo 4 amostras contenham a molécula rara.\n",
        "- c)De 3 a 7 amostras contenham a molécula rara.\n",
        "- d) O número médio e a variância de moléculas raras.\n",
        "\n",
        "> Respostas: a) 0,2835 b) 0,0982 c) 0,2660 d) 1,8 e 1,62."
      ]
    },
    {
      "cell_type": "code",
      "metadata": {
        "id": "tGJCaO_z5bj0"
      },
      "source": [
        "%%R\n",
        "# Exercício 1\n",
        "\n",
        "\n",
        "p <- 0.1\n",
        "q <- 1 - p\n",
        "n <- 18"
      ],
      "execution_count": null,
      "outputs": []
    },
    {
      "cell_type": "code",
      "metadata": {
        "colab": {
          "base_uri": "https://localhost:8080/"
        },
        "id": "zvghG62F2XN4",
        "outputId": "73ac9d99-bd3d-4b77-e961-4aae80560dc3"
      },
      "source": [
        "%%R\n",
        "# Exercício 1 a\n",
        "# P(X = 2)\n",
        "\n",
        "# Excel\n",
        "# =DISTR.BINOM(2;18;0,1;FALSO)\n",
        "\n",
        "p2 <- dbinom(x=2,size=n,prob=p,log=FALSE)\n",
        "p2"
      ],
      "execution_count": null,
      "outputs": [
        {
          "output_type": "stream",
          "text": [
            "[1] 0.2835121\n"
          ],
          "name": "stdout"
        }
      ]
    },
    {
      "cell_type": "code",
      "metadata": {
        "colab": {
          "base_uri": "https://localhost:8080/"
        },
        "id": "Yq2ApJDU5Vtc",
        "outputId": "796a0424-0230-4164-d5a7-2545bc6bc5ee"
      },
      "source": [
        "%%R\n",
        "# Exercício 1 b\n",
        "# P(X>=4) = 1 - P(X < 4) = 1 - (P(X=0) + P(X=1) + P(X=2) + P(X=3))\n",
        "\n",
        "# Excel\n",
        "# = 1 - DISTR.BINOM(3;18;0,1;VERDADEIRO)\n",
        "\n",
        "\n",
        "p0 <- dbinom(x=0,size=n,prob=p,log=FALSE)\n",
        "p1 <- dbinom(x=1,size=n,prob=p,log=FALSE)\n",
        "p2 <- dbinom(x=2,size=n,prob=p,log=FALSE)\n",
        "p3 <- dbinom(x=3,size=n,prob=p,log=FALSE)\n",
        "\n",
        "p_result = 1 - (p0 + p1 + p2 + p3)\n",
        "print(p_result)\n",
        "\n",
        "other_result = pbinom(3,size=n,prob=p,lower.tail=FALSE,log = FALSE)\n",
        "print(other_result)"
      ],
      "execution_count": null,
      "outputs": [
        {
          "output_type": "stream",
          "text": [
            "[1] 0.09819684\n",
            "[1] 0.09819684\n"
          ],
          "name": "stdout"
        }
      ]
    },
    {
      "cell_type": "code",
      "metadata": {
        "colab": {
          "base_uri": "https://localhost:8080/"
        },
        "id": "do-vWdJ05XJP",
        "outputId": "8636c037-7eee-45ff-cb39-1459b01666b5"
      },
      "source": [
        "%%R\n",
        "# Exercício 1 c\n",
        "# P(3 <= X >= 7) = P(X=3) + P(X=4) + P(X=5) + P(X=6) + P(X=7)\n",
        "\n",
        "# Excel\n",
        "''' soma\n",
        "= DISTR.BINOM(3;18;0,1;FALSO)\n",
        "= DISTR.BINOM(4;18;0,1;FALSO)\n",
        "= DISTR.BINOM(5;18;0,1;FALSO)\n",
        "= DISTR.BINOM(6;18;0,1;FALSO)\n",
        "= DISTR.BINOM(7;18;0,1;FALSO)\n",
        "'''\n",
        "\n",
        "p3 <- dbinom(x=3,size=n,prob=p,log=FALSE)\n",
        "p4 <- dbinom(x=4,size=n,prob=p,log=FALSE)\n",
        "p5 <- dbinom(x=5,size=n,prob=p,log=FALSE)\n",
        "p6 <- dbinom(x=6,size=n,prob=p,log=FALSE)\n",
        "p7 <- dbinom(x=7,size=n,prob=p,log=FALSE)\n",
        "\n",
        "p_result = p3 + p4 + p5 + p6 + p7\n",
        "p_result"
      ],
      "execution_count": null,
      "outputs": [
        {
          "output_type": "stream",
          "text": [
            "[1] 0.2660305\n"
          ],
          "name": "stdout"
        }
      ]
    },
    {
      "cell_type": "code",
      "metadata": {
        "colab": {
          "base_uri": "https://localhost:8080/"
        },
        "id": "yEXmqApM5Xup",
        "outputId": "534b2586-df5b-4288-f0a3-c431eb7e9728"
      },
      "source": [
        "%%R\n",
        "# Exercicio 1 d\n",
        "med = n * p\n",
        "var = n * p * q\n",
        "dp = sqrt(var)\n",
        "\n",
        "print(med)\n",
        "print(var)\n",
        "print(dp)"
      ],
      "execution_count": null,
      "outputs": [
        {
          "output_type": "stream",
          "text": [
            "[1] 1.8\n",
            "[1] 1.62\n",
            "[1] 1.272792\n"
          ],
          "name": "stdout"
        }
      ]
    },
    {
      "cell_type": "markdown",
      "metadata": {
        "id": "q-_V9jRN74tD"
      },
      "source": [
        "## Exercício 2\n",
        "\n",
        "Se 20% dos parafusos produzidos por uma maquina são defeituosos,\n",
        "determine qual a probabilidade de, entre 4 parafusos selecionados ao\n",
        "acaso, no máximo 2 deles serem defeituosos.\n",
        "\n",
        "> Resposta:0,9728"
      ]
    },
    {
      "cell_type": "code",
      "metadata": {
        "colab": {
          "base_uri": "https://localhost:8080/"
        },
        "id": "iw1HEWZ35Yan",
        "outputId": "ce82a1f6-0679-4411-d51f-4849c6e5b5cd"
      },
      "source": [
        "%%R\n",
        "p <- 0.2\n",
        "q <- 1 - p\n",
        "n <- 4\n",
        "\n",
        "# P(X <= 2) = P(X=0) + P(X=1) + P(X=2)\n",
        "pbinom(2,size=n,prob=p,lower.tail=TRUE,log=FALSE)"
      ],
      "execution_count": null,
      "outputs": [
        {
          "output_type": "stream",
          "text": [
            "[1] 0.9728\n"
          ],
          "name": "stdout"
        }
      ]
    },
    {
      "cell_type": "markdown",
      "metadata": {
        "id": "wX4TATeQ77cl"
      },
      "source": [
        "## Exercício 3\n",
        "\n",
        "Um fabricante de certas peças de automóveis garante que uma caixa de\n",
        "suas peças conterá no máximo 2 itens defeituosos. Se a caixa contem 20\n",
        "peças e a experiência tem demonstrado que esse processo de fabricação\n",
        "produz 2 por cento de itens defeituosos, qual a probabilidade de que uma\n",
        "caixa de suas peças não vá satisfazer a garantia?\n",
        "\n",
        "> Resposta: 0,0071"
      ]
    },
    {
      "cell_type": "code",
      "metadata": {
        "colab": {
          "base_uri": "https://localhost:8080/"
        },
        "id": "64l1K00X78rq",
        "outputId": "b1d8c89a-c6b1-44da-8da8-0d610a81827c"
      },
      "source": [
        "%%R\n",
        "p <- 0.02\n",
        "q <- 1 - p\n",
        "n <- 20\n",
        "\n",
        "# P(X > 2) = 1 - (P(X=0) + P(X=1) + P(X=2))\n",
        "pbinom(2,size=n,prob=p,lower.tail=FALSE,log=FALSE)"
      ],
      "execution_count": null,
      "outputs": [
        {
          "output_type": "stream",
          "text": [
            "[1] 0.007068693\n"
          ],
          "name": "stdout"
        }
      ]
    },
    {
      "cell_type": "markdown",
      "metadata": {
        "id": "rWpkFYnmS9WL"
      },
      "source": [
        "## Questão 4\n",
        "(Freund, 2006) A experiência mostra que 30% dos lançamentos de foguete de uma\n",
        "base da NASA foram adiados em virtude do mau tempo. Determine a probabilidade\n",
        "de que, em dez lançamentos de foguete daquela base, de três a cinco sejam\n",
        "adiados em virtude do mau tempo."
      ]
    },
    {
      "cell_type": "code",
      "metadata": {
        "colab": {
          "base_uri": "https://localhost:8080/"
        },
        "id": "zsnYJEkoS_cj",
        "outputId": "74284695-7be3-4ce4-e4b6-033a5f9554b2"
      },
      "source": [
        "%%R\n",
        "\n",
        "# X: lançamento adiado\n",
        "p <- 0.3\n",
        "n = 10\n",
        "\n",
        "# P(3 <= X <= 5) = P(3) + P(4) + P(5)\n",
        "\n",
        "p3 <- dbinom(x=3,size=n,prob=p,log=FALSE)\n",
        "p4 <- dbinom(x=4,size=n,prob=p,log=FALSE)\n",
        "p5 <- dbinom(x=5,size=n,prob=p,log=FALSE)\n",
        "\n",
        "p_result = p3 + p4 + p5\n",
        "p_result\n"
      ],
      "execution_count": null,
      "outputs": [
        {
          "output_type": "stream",
          "text": [
            "[1] 0.5698682\n"
          ],
          "name": "stdout"
        }
      ]
    },
    {
      "cell_type": "markdown",
      "metadata": {
        "id": "owEVXscKHTwc"
      },
      "source": [
        "## Questão 9\n",
        "\n",
        "(Adaptado de Freund, 2006) Um estudo mostra que em 60% dos casos de divórcio\n",
        "requeridos num certo município, a incompatibilidade é apontada como causa.\n",
        "Encontre a probabilidade de que entre 14 casos de divórcio requeridos naquele\n",
        "município mais de 12 apontem a incompatibilidade como causa."
      ]
    },
    {
      "cell_type": "code",
      "metadata": {
        "colab": {
          "base_uri": "https://localhost:8080/"
        },
        "id": "zFxK114hHWKA",
        "outputId": "a0443e0f-7abc-4828-8c4c-f24462c08e50"
      },
      "source": [
        "%%R\n",
        "\n",
        "# X: divórcio por inconpatibilidade\n",
        "p <- 0.6\n",
        "n = 14\n",
        "# P(X >= 12) = P(X = 12) + P(X = 13) + P(X = 14)\n",
        "\n",
        "pbinom(12,size=n,prob=p,lower.tail=FALSE,log=FALSE)"
      ],
      "execution_count": null,
      "outputs": [
        {
          "output_type": "stream",
          "text": [
            "[1] 0.00809763\n"
          ],
          "name": "stdout"
        }
      ]
    },
    {
      "cell_type": "markdown",
      "metadata": {
        "id": "-CkKrTF2-TZ1"
      },
      "source": [
        "# Poison (VA Discreta)"
      ]
    },
    {
      "cell_type": "markdown",
      "metadata": {
        "id": "Q4ufZDv_-Vq-"
      },
      "source": [
        "## Distribuição Poisson\n",
        "**Utilizando o Microsoft Excel:**\n",
        "\n",
        "Distribuição Poisson para o cálculo de P(X=x): `=DIST.POISSON(x;lambda;FALSO)`\n",
        "\n",
        "Distribuição Poisson para o cálculo de P(0<X<x): `=DIST.POISSON(x;lambda;VERDADEIRO)`*\n",
        "> *Os resultados exibidos mostrarão a probabilidade acumulada!\n",
        "\n",
        "**Utilizando o R:**\n",
        "Distribuição Poisson para o cálculo de P:(X=x): `dpois(x, lambda, log=FALSE)`\n",
        "\n",
        "Distribuição Poisson para o cálculo de P(0<=X<x=): `ppois(x, lambda, lower.tail=TRUE, log.p=FALSE)`\n",
        "\n",
        "onde:\n",
        "- `lower.tail=TRUE` → Fornece a probabilidade acumulada → P(X<=x)\n",
        "- `lower.tail=FALSE` → Fornece a probabilidade acima de x → P(X>x)\n",
        "- `log=FALSE` → Fornece as probabilidades numéricas e não em escala logarítmica."
      ]
    },
    {
      "cell_type": "markdown",
      "metadata": {
        "id": "Ry57YdjawYPH"
      },
      "source": [
        "## Exemplo 2\n",
        "\n",
        "Uma central telefônica recebe, em média, cinco chamadas por minuto.\n",
        "\n",
        "- a) Defina a variável aleatória. <br/>\n",
        "X: Número de chamadas recebidas por minuto. <br/>\n",
        "x: 0, 1, 2, ... <br/>\n",
        "lambda = 5 chamadas por minuto <br/>\n",
        "X ~ Po(5)\n",
        "\n",
        "- b) Calcule a probabilidade de que, durante um intervalo de um minuto, a central telefônica não receba chamada.\n",
        "\n",
        "- c) Calcule a probabilidade de que, durante um intervalo de um minuto, a central telefônica receba, no máximo, uma chamada.\n",
        "\n",
        "- d) Calcule a probabilidade de que, durante um intervalo de um minuto, a central telefônica receba mais de duas chamadas.\n",
        "\n",
        "- e) Durante um intervalo de quatro minutos, qual a probabilidade de que ocorram\n",
        "15 chamadas?"
      ]
    },
    {
      "cell_type": "code",
      "metadata": {
        "id": "Zzuks9-q-VC9",
        "colab": {
          "base_uri": "https://localhost:8080/"
        },
        "outputId": "511e3de0-6a6f-408f-a6cf-0a96a9d679ef"
      },
      "source": [
        "%%R\n",
        "# Exemplo 2 b\n",
        "\n",
        "# P(X=0)\n",
        "\n",
        "# Excel\n",
        "# =DIST.POISSON(0;5;FALSO)\n",
        "\n",
        "dpois(x=0,lambda=5,log=FALSE)"
      ],
      "execution_count": null,
      "outputs": [
        {
          "output_type": "stream",
          "text": [
            "[1] 0.006737947\n"
          ],
          "name": "stdout"
        }
      ]
    },
    {
      "cell_type": "code",
      "metadata": {
        "id": "7v7luWRl_M-Y",
        "colab": {
          "base_uri": "https://localhost:8080/"
        },
        "outputId": "5f4472dc-680f-4f22-9d4b-015de603b9f7"
      },
      "source": [
        "%%R\n",
        "# Exemplo 2 c\n",
        "\n",
        "# P(X ≤ 1) = P(X = 0) + P(X = 1)\n",
        "\n",
        "# Excel\n",
        "# =DIST.POISSON(1;5;VERDADEIRO)\n",
        "\n",
        "ppois(q=1, lambda=5, lower.tail = TRUE, log.p = FALSE)"
      ],
      "execution_count": null,
      "outputs": [
        {
          "output_type": "stream",
          "text": [
            "[1] 0.04042768\n"
          ],
          "name": "stdout"
        }
      ]
    },
    {
      "cell_type": "code",
      "metadata": {
        "colab": {
          "base_uri": "https://localhost:8080/"
        },
        "id": "iRno1x7jxs9h",
        "outputId": "3b055f2f-f0d7-4447-afed-c029d307b734"
      },
      "source": [
        "%%R\n",
        "# Exemplo 2 d\n",
        "\n",
        "# P(X>2)=1-P(X≤2)=1-P(X=0)+P(X=1)+P(X=2)\n",
        "\n",
        "# Excel\n",
        "# = 1 - DIST.POISSON(2;5;VERDADEIRO)\n",
        "\n",
        "ppois(q=2, lambda=5, lower.tail=FALSE, log.p=FALSE)"
      ],
      "execution_count": null,
      "outputs": [
        {
          "output_type": "stream",
          "text": [
            "[1] 0.875348\n"
          ],
          "name": "stdout"
        }
      ]
    },
    {
      "cell_type": "code",
      "metadata": {
        "colab": {
          "base_uri": "https://localhost:8080/"
        },
        "id": "KE6oZqX4yEay",
        "outputId": "f3c18901-9b5e-4040-f90a-ae4e79dfa757"
      },
      "source": [
        "%%R\n",
        "# Exemplo 2 e\n",
        "\n",
        "# P(X=15)\n",
        "\n",
        "# Excel\n",
        "# = DIST.POISSON(15;20;FALSO)\n",
        "\n",
        "dpois(x=15, lambda=20, log=FALSE)"
      ],
      "execution_count": null,
      "outputs": [
        {
          "output_type": "stream",
          "text": [
            "[1] 0.05164885\n"
          ],
          "name": "stdout"
        }
      ]
    },
    {
      "cell_type": "markdown",
      "metadata": {
        "id": "sUudLS1iyYXr"
      },
      "source": [
        "## Exercício 4\n",
        "\n",
        "Falhas ocorrem, ao acaso, ao longo do comprimento de um fio delgado de\n",
        "cobre. Suponha que o número de falhas siga a distribuição de Poisson, com\n",
        "uma média de 2,3 falhas por milímetro.\n",
        "\n",
        "a) Determine a probabilidade de existir exatamente 2 falhas em 1\n",
        "milímetro de fio.\n",
        "\n",
        "b) Determine a probabilidade de existir entre 2 e 4 falhas em 1 milímetro de fio.\n",
        "\n",
        "c) Determine a probabilidade de 10 falhas em 5 milímetros de fio.\n",
        "\n",
        "d) Determine a probabilidade de existir, no mínimo, uma falha em 2\n",
        "milímetros de fio.\n",
        "\n",
        "> Respostas: a) 0,2652 b)0,2033 c) 0,1129 d) 0,99"
      ]
    },
    {
      "cell_type": "code",
      "metadata": {
        "id": "rQnl3tIQzAn5"
      },
      "source": [
        "%%R\n",
        "# X = falhas por milímetro\n",
        "# lambda = 2.3"
      ],
      "execution_count": null,
      "outputs": []
    },
    {
      "cell_type": "code",
      "metadata": {
        "id": "-YqlO6VSzCBl",
        "colab": {
          "base_uri": "https://localhost:8080/"
        },
        "outputId": "4409941c-ddc9-4d02-c380-c75dae2bcbd0"
      },
      "source": [
        "%%R\n",
        "# a\n",
        "# P(X=2) = P(X=0) + P(X=1) + P(X=2)\n",
        "\n",
        "# Excel\n",
        "# =DIST.POISSON(2;2,3;FALSO)\n",
        "dpois(x=2, lambda=2.3, log=FALSE)"
      ],
      "execution_count": null,
      "outputs": [
        {
          "output_type": "stream",
          "text": [
            "[1] 0.2651846\n"
          ],
          "name": "stdout"
        }
      ]
    },
    {
      "cell_type": "code",
      "metadata": {
        "id": "hLhESwIrzCJ8",
        "colab": {
          "base_uri": "https://localhost:8080/"
        },
        "outputId": "fdff4578-7d85-4299-83f1-23add0e634e1"
      },
      "source": [
        "%%R\n",
        "# b\n",
        "# P(2<X<4) = P(X=3)\n",
        "\n",
        "# Excel\n",
        "# =DIST.POISSON(3;2,3;FALSO)\n",
        "\n",
        "dpois(x=3, lambda=2.3, log=FALSE)"
      ],
      "execution_count": null,
      "outputs": [
        {
          "output_type": "stream",
          "text": [
            "[1] 0.2033082\n"
          ],
          "name": "stdout"
        }
      ]
    },
    {
      "cell_type": "code",
      "metadata": {
        "id": "soO9v9M0zCTG",
        "colab": {
          "base_uri": "https://localhost:8080/"
        },
        "outputId": "dce30e69-2282-42a5-9e01-6e71a4fe0ccf"
      },
      "source": [
        "%%R\n",
        "# c\n",
        "# P(X=10) em 5 milímetros\n",
        "\n",
        "# Excel\n",
        "# =DIST.POISSON(10;11,5;FALSO)\n",
        "\n",
        "new_lambda <- 5 * 2.3\n",
        "print(new_lambda)\n",
        "\n",
        "dpois(x=10, lambda=new_lambda, log=FALSE)\n"
      ],
      "execution_count": null,
      "outputs": [
        {
          "output_type": "stream",
          "text": [
            "[1] 11.5\n",
            "[1] 0.1129351\n"
          ],
          "name": "stdout"
        }
      ]
    },
    {
      "cell_type": "code",
      "metadata": {
        "id": "HWOO6juUzISX",
        "colab": {
          "base_uri": "https://localhost:8080/"
        },
        "outputId": "1b2871d4-63e3-4d71-ed5a-39b7f58b01fe"
      },
      "source": [
        "%%R\n",
        "# d\n",
        "# em 2 milímetros\n",
        "# P(X>=1) = 1 - P(X < 1) = 1 - P(X=0)\n",
        "\n",
        "#Excel\n",
        "# =1 - DIST.POISSON(0;4,6;VERDADEIRO)\n",
        "\n",
        "new_lambda <- 2 * 2.3\n",
        "print(new_lambda)\n",
        "\n",
        "p0 <- ppois(q=0, lambda=new_lambda, lower.tail=TRUE, log=FALSE)\n",
        "p_result = 1 - p0\n",
        "print(p_result)\n",
        "\n",
        "# ou\n",
        "ppois(0, 4.6, lower.tail = FALSE, log.p = FALSE)"
      ],
      "execution_count": null,
      "outputs": [
        {
          "output_type": "stream",
          "text": [
            "[1] 4.6\n",
            "[1] 0.9899482\n",
            "[1] 0.9899482\n"
          ],
          "name": "stdout"
        }
      ]
    },
    {
      "cell_type": "markdown",
      "metadata": {
        "id": "ZY7cnF2dzA2z"
      },
      "source": [
        "## Exercício 5\n",
        "\n",
        "O número de falhas em parafusos de máquinas da indústria textil segue\n",
        "distribuição de Poisson, com uma média de 0,1 falha por metro quadrado.\n",
        "\n",
        "a) Qual é a probabilidade de que haja duas falhas em 1 metro quadrado de\n",
        "tecido?\n",
        "\n",
        "b) Qual é a probabilidade de que haja uma falha em 10 metros quadrados\n",
        "de tecido?\n",
        "\n",
        "c) Qual é a probabilidade de que não haja falhas em 20 metros quadrados\n",
        "de tecido?\n",
        "\n",
        "d) Qual é a probabilidade de que haja no mínimo duas falhas em 10 metros\n",
        "quadrados de tecido?\n",
        "\n",
        "> Respostas: a) 0,0045 b)0,3679 c) 0,1353 d) 0,2642"
      ]
    },
    {
      "cell_type": "code",
      "metadata": {
        "id": "NvELXlJ0zT8m"
      },
      "source": [
        "%%R\n",
        "# X = falha por metro quadrado\n",
        "# lambdap = 0.1"
      ],
      "execution_count": null,
      "outputs": []
    },
    {
      "cell_type": "code",
      "metadata": {
        "id": "SxUkMR5VzULM",
        "colab": {
          "base_uri": "https://localhost:8080/"
        },
        "outputId": "caed07d0-e1dc-4fb6-d68a-bd4c5a3905b6"
      },
      "source": [
        "%%R\n",
        "#a\n",
        "# P(X=2)\n",
        "\n",
        "dpois(x=2, lambda=0.1, log=FALSE)"
      ],
      "execution_count": null,
      "outputs": [
        {
          "output_type": "stream",
          "text": [
            "[1] 0.004524187\n"
          ],
          "name": "stdout"
        }
      ]
    },
    {
      "cell_type": "code",
      "metadata": {
        "id": "0fakb5L5zUSe",
        "colab": {
          "base_uri": "https://localhost:8080/"
        },
        "outputId": "b5cd330f-b45f-4a4b-9989-c215ffe3bb05"
      },
      "source": [
        "%%R\n",
        "#b\n",
        "# em 10 metros quadrados\n",
        "# P(X=1)\n",
        "\n",
        "new_lambda = 10 * 0.1\n",
        "dpois(x=1, lambda=new_lambda, log=FALSE)"
      ],
      "execution_count": null,
      "outputs": [
        {
          "output_type": "stream",
          "text": [
            "[1] 0.3678794\n"
          ],
          "name": "stdout"
        }
      ]
    },
    {
      "cell_type": "code",
      "metadata": {
        "id": "5JV7ZtSLzUaF",
        "colab": {
          "base_uri": "https://localhost:8080/"
        },
        "outputId": "af6b4162-9454-4291-95b3-09dfb09483f9"
      },
      "source": [
        "%%R\n",
        "#c\n",
        "# em 20 metros quadrados\n",
        "# P(X=0)\n",
        "\n",
        "new_lambda = 20 * 0.1\n",
        "dpois(x=0, lambda=new_lambda, log=FALSE)"
      ],
      "execution_count": null,
      "outputs": [
        {
          "output_type": "stream",
          "text": [
            "[1] 0.1353353\n"
          ],
          "name": "stdout"
        }
      ]
    },
    {
      "cell_type": "code",
      "metadata": {
        "id": "hY18kp0fzUkc",
        "colab": {
          "base_uri": "https://localhost:8080/"
        },
        "outputId": "772fe5d4-5943-4142-9441-b6b6846799f9"
      },
      "source": [
        "%%R\n",
        "#d\n",
        "# em 10 metros quadrados\n",
        "# P(X>=2) = 1 - (P(X=0) + P(X=1))\n",
        "\n",
        "new_lambda = 10 * 0.1\n",
        "p1 = ppois(q=1, lambda=new_lambda, lower.tail=TRUE, log=FALSE)\n",
        "p_result = 1 - p1\n",
        "print(p_result)\n",
        "\n",
        "# ou\n",
        "ppois(q=1, lambda=new_lambda, lower.tail=FALSE, log=FALSE)"
      ],
      "execution_count": null,
      "outputs": [
        {
          "output_type": "stream",
          "text": [
            "[1] 0.2642411\n",
            "[1] 0.2642411\n"
          ],
          "name": "stdout"
        }
      ]
    },
    {
      "cell_type": "markdown",
      "metadata": {
        "id": "tNqRgMeAzaXW"
      },
      "source": [
        "## Exercício 6\n",
        "\n",
        "Um engenheiro de tráfego monitora o fluxo de carros em um cruzamento\n",
        "que tem uma média de 6 carros por minuto. Para estabelecer o tempo de\n",
        "um sinal, as seguintes probabilidade são utilizadas:\n",
        "\n",
        "a) Qual é a probabilidade de nenhum carro passar pelo cruzamento em 30\n",
        "segundos?\n",
        "\n",
        "b) Qual é a probabilidade de três ou mais carros passarem pelo cruzamento\n",
        "em 30 segundos?\n",
        "\n",
        "> Respostas: a) 0,0498 b)0,5768"
      ]
    },
    {
      "cell_type": "code",
      "metadata": {
        "id": "gTUNmNWozgrp"
      },
      "source": [
        "%%R\n",
        "# X = carros por minuto\n",
        "lambda_minuto = 6\n",
        "lambda_30_segundos = (6 * 30)/60"
      ],
      "execution_count": null,
      "outputs": []
    },
    {
      "cell_type": "code",
      "metadata": {
        "id": "bh1F3X61zg9B",
        "colab": {
          "base_uri": "https://localhost:8080/"
        },
        "outputId": "93f019c7-d226-47f9-fe82-52336bfb5275"
      },
      "source": [
        "%%R\n",
        "#a - 30 segundos\n",
        "# P(X=0)\n",
        "\n",
        "dpois(x=0, lambda=lambda_30_segundos, log=FALSE)"
      ],
      "execution_count": null,
      "outputs": [
        {
          "output_type": "stream",
          "text": [
            "[1] 0.04978707\n"
          ],
          "name": "stdout"
        }
      ]
    },
    {
      "cell_type": "code",
      "metadata": {
        "id": "7hWTorNnzhHb",
        "colab": {
          "base_uri": "https://localhost:8080/"
        },
        "outputId": "2d1aed34-5e91-4949-a39e-ebde1e5236dc"
      },
      "source": [
        "%%R\n",
        "#b - 30 segundos\n",
        "# P(X>=3) = 1 - (P(X=0) + P(X=1) + P(X=2))\n",
        "\n",
        "p <- ppois(q=2, lambda=lambda_30_segundos, lower.tail=TRUE, log=FALSE)\n",
        "p_result = 1 - p\n",
        "print(p_result)\n",
        "\n",
        "# ou\n",
        "ppois(q=2, lambda=lambda_30_segundos, lower.tail=FALSE, log=FALSE)\n"
      ],
      "execution_count": null,
      "outputs": [
        {
          "output_type": "stream",
          "text": [
            "[1] 0.5768099\n",
            "[1] 0.5768099\n"
          ],
          "name": "stdout"
        }
      ]
    },
    {
      "cell_type": "markdown",
      "metadata": {
        "id": "iQudu_dBOzll"
      },
      "source": [
        "## Questão 3\n",
        "\n",
        "Uma indústria de tintas recebe pedidos de seus vendedores através de telefone e\n",
        "internet. O número médio de pedidos, que chegam por qualquer meio, é de 5 por\n",
        "hora. Em um dia de trabalho (8 horas), qual seria a probabilidade de haver 50\n",
        "pedidos?"
      ]
    },
    {
      "cell_type": "code",
      "metadata": {
        "colab": {
          "base_uri": "https://localhost:8080/"
        },
        "id": "sOF8wlhRO3oA",
        "outputId": "d3271718-1643-469f-b706-b485e4ed55e3"
      },
      "source": [
        "%%R\n",
        "\n",
        "# X: receber pedidos por hora \n",
        "lambda_8horas <- 5 * 8\n",
        "\n",
        "# P(X=50)\n",
        "dpois(50, lambda=lambda_8horas, log=FALSE)"
      ],
      "execution_count": null,
      "outputs": [
        {
          "output_type": "stream",
          "text": [
            "[1] 0.01770702\n"
          ],
          "name": "stdout"
        }
      ]
    },
    {
      "cell_type": "markdown",
      "metadata": {
        "id": "rAMthHT8zl8g"
      },
      "source": [
        "# Exponencial (VA Contínua)"
      ]
    },
    {
      "cell_type": "markdown",
      "metadata": {
        "id": "XzORv-aP2WqT"
      },
      "source": [
        "## Distribuição Exponencial\n",
        "\n",
        "**Utilizando o Microsoft Excel:**\n",
        "\n",
        "Distribuição exponencial para o cálculo de\n",
        "P(0<X<x) `=DISTR.EXPON(x;alfa;VERDADEIRO)*`\n",
        "\n",
        "> *Os resultados exibidos mostrarão a probabilidade acumulada!\n",
        "\n",
        "**Utilizando o R:**\n",
        "\n",
        "Distribuição exponencial para\n",
        "o cálculo de P(0<X<=x) `pexp(x, rate = alfa, lower.tail = TRUE, log.p = FALSE)`\n",
        "\n",
        "onde:\n",
        "- alfa = parâmetro da distribuição exponencial\n",
        "- `lower.tail=TRUE` → Fornece a probabilidade acumulada → P(X<=x)\n",
        "- `lower.tail=FALSE` → Fornece a probabilidade acima de x → P(X>x)\n",
        "- `log=FALSE` → Fornece as probabilidades numéricas e não em escala logarítmica."
      ]
    },
    {
      "cell_type": "markdown",
      "metadata": {
        "id": "gzDdiatnzs5v"
      },
      "source": [
        "## Exemplo 1\n",
        "A vida útil de uma lâmpada é modelada através da distribuição exponencial com\n",
        "parâmetro 1/8000.\n",
        "\n",
        "a) Calcule o tempo médio de duração dessas lâmpadas.\n",
        "\n",
        "1/alpha = 1/8000\n",
        "\n",
        "b) Calcule a probabilidade de que uma lâmpada dure pelo menos 4000 horas.\n",
        "> Como a distribuição exponencial não tem um limite superior mas, tem o zero\n",
        "como limite inferior, para realizar o cálculo de que a lâmpada dure pelo menos\n",
        "4000 horas iremos utilizar o complementar, ou seja, `P(X>=4000) = 1 - P(0 < X<4000)`\n",
        "\n",
        "c) Sabe-se que o fabricante garante a reposição de uma lâmpada caso ela dure\n",
        "menos de 50 horas. Determine a probabilidade de haver troca por defeito na\n",
        "fabricação.\n",
        "\n",
        "`P(X >= 50) = P (0 < X < 50 )`\n",
        "\n",
        "d) Uma lâmpada é colocada em teste. Calcule a probabilidade de que ela dure pelo\n",
        "menos 10000 horas, sabendo-se que ela já está em funcionamento a pelo\n",
        "menos 6000 horas.\n",
        "Para resolver essa probabilidade condicional podemos utilizar a propriedade de\n",
        "falta de memória da distribuição exponencial:\n",
        "\n",
        "`P(X >= 10000 | X >= 6000) = P(X >= 4000) = 0,6065`"
      ]
    },
    {
      "cell_type": "code",
      "metadata": {
        "colab": {
          "base_uri": "https://localhost:8080/"
        },
        "id": "fHiJzUDXzuVn",
        "outputId": "36ac204e-3797-4204-9c11-e2bf89d0105f"
      },
      "source": [
        "%%R \n",
        "#b\n",
        "\n",
        "# P(X>=4000) = 1 - P(0<X<4000)\n",
        "\n",
        "# Excel\n",
        "# = 1 - DISTR.EXPON(4000;1/8000;VERDADEIRO)\n",
        "\n",
        "pexp(4000, rate = 1/8000, lower.tail = FALSE, log.p = FALSE)\n",
        "\n",
        "# 1 - pexp(4000, rate = 1/8000, lower.tail = TRUE, log.p = FALSE)"
      ],
      "execution_count": null,
      "outputs": [
        {
          "output_type": "stream",
          "text": [
            "[1] 0.6065307\n"
          ],
          "name": "stdout"
        }
      ]
    },
    {
      "cell_type": "code",
      "metadata": {
        "colab": {
          "base_uri": "https://localhost:8080/"
        },
        "id": "Pub_h6hW4D0J",
        "outputId": "422b2760-8b17-40ed-fc36-27f3ff1f1490"
      },
      "source": [
        "%%R \n",
        "#c\n",
        "\n",
        "# P(X >= 50) = P (0 < X < 50 )\n",
        "\n",
        "# Excel\n",
        "# = DISTR.EXPON(50;1/8000;VERDADEIRO)\n",
        "\n",
        "pexp(50, rate = 1/8000, lower.tail = TRUE, log.p = FALSE)"
      ],
      "execution_count": null,
      "outputs": [
        {
          "output_type": "stream",
          "text": [
            "[1] 0.006230509\n"
          ],
          "name": "stdout"
        }
      ]
    },
    {
      "cell_type": "code",
      "metadata": {
        "id": "5dl3Bdr84SzX"
      },
      "source": [
        "%%R \n",
        "#d\n"
      ],
      "execution_count": null,
      "outputs": []
    },
    {
      "cell_type": "markdown",
      "metadata": {
        "id": "jrqco3Iu1E87"
      },
      "source": [
        "## Exercício 1\n",
        "A vida de certa marca de lâmpada tem uma distribuição aproximadamente\n",
        "exponencial com média de 1000 horas.\n",
        "\n",
        "a) Determinar a porcentagem das lâmpadas que queimarão antes de 1000 horas.\n",
        "\n",
        "b) Qual é a probabilidade de que os componentes durem entre 900 e 1200 horas?\n",
        "\n",
        "c) Qual é o percentual de componentes que durarão mais de 850 horas?\n",
        "\n",
        "d) Após quantas horas terão queimado 50% das lâmpadas? ?????\n",
        "\n",
        "> Respostas: a) 0,6312 b) 0.1053754 c) 0.4274149 d) 693,1472 horas"
      ]
    },
    {
      "cell_type": "code",
      "metadata": {
        "id": "gLWXRdba1K6n",
        "colab": {
          "base_uri": "https://localhost:8080/"
        },
        "outputId": "41a4e9ac-d948-4221-c9f5-9fbc0238847a"
      },
      "source": [
        "%%R\n",
        "# a\n",
        "\n",
        "# media = 1000\n",
        "# lambda = 1/1000\n",
        "# P(X <= 1000) = P(0 < X < 1000)\n",
        "\n",
        "pexp(1000, rate=1/1000, lower.tail=TRUE, log.p=FALSE)"
      ],
      "execution_count": null,
      "outputs": [
        {
          "output_type": "stream",
          "text": [
            "[1] 0.6321206\n"
          ],
          "name": "stdout"
        }
      ]
    },
    {
      "cell_type": "code",
      "metadata": {
        "colab": {
          "base_uri": "https://localhost:8080/"
        },
        "id": "VoWJp3O1YsgX",
        "outputId": "f6fba9de-d579-4ea2-9dac-2ffe2a16dc76"
      },
      "source": [
        "%%R\n",
        "# b\n",
        "\n",
        "# P(900 < X < 1200) = P(X < 2000) - P(X < 900)\n",
        "\n",
        "p900 = pexp(900, rate=1/1000, lower.tail=TRUE, log.p=FALSE)\n",
        "p1200 = pexp(1200, rate=1/1000, lower.tail=TRUE, log.p=FALSE)\n",
        "\n",
        "p1200 - p900"
      ],
      "execution_count": null,
      "outputs": [
        {
          "output_type": "stream",
          "text": [
            "[1] 0.1053754\n"
          ],
          "name": "stdout"
        }
      ]
    },
    {
      "cell_type": "code",
      "metadata": {
        "colab": {
          "base_uri": "https://localhost:8080/"
        },
        "id": "jafrEPv8abpW",
        "outputId": "a74e46c9-7130-417c-cc3d-18c798767689"
      },
      "source": [
        "%%R\n",
        "# c\n",
        "# P(X >= 850) = 1 - P(X < 850)\n",
        "\n",
        "pexp(850, rate=1/1000, lower.tail=FALSE, log.p=FALSE)"
      ],
      "execution_count": null,
      "outputs": [
        {
          "output_type": "stream",
          "text": [
            "[1] 0.4274149\n"
          ],
          "name": "stdout"
        }
      ]
    },
    {
      "cell_type": "code",
      "metadata": {
        "id": "ZICY7b-BcTDM"
      },
      "source": [
        "# d\n",
        "\n",
        "# Temos que calcular o tempo em horas tal que P(0<X<h)=0,5, ou seja,\n",
        "\n",
        "# e^-0,001*0 - e^-0,001*h = 0,5\n",
        "# 1 - e^-0,001*h = 0,5\n",
        "# e^-0,001*h = 0,5\n",
        "\n",
        "# Aplicando a função ln (logaritmo neperiano), temos:\n",
        "# -0,001*h = -0,6931\n",
        "# h=693,1\n",
        "\n",
        "\n",
        "# Sim, podemos fazer na calculadora científica:\n",
        "# ln(e^-0,001*h) = ln(0,5)\n",
        "\n",
        "# A função ln anula a função exponencial então teríamos:\n",
        "# -0,001h=-0,6931\n",
        "# h=-0,6931/-0,001\n",
        "# h=693,1"
      ],
      "execution_count": null,
      "outputs": []
    },
    {
      "cell_type": "markdown",
      "metadata": {
        "id": "eZ0IW8LC1LEl"
      },
      "source": [
        "## Exercício 2\n",
        "Uma fábrica utiliza dois métodos para a produção de lâmpadas. 70% das lâmpadas\n",
        "são produzidas pelo método A e as demais pelo método B. A duração da lâmpada\n",
        "depende do método pelo qual ela foi produzida, sendo que as produzidas pelo\n",
        "método A seguem uma distribuição exponencial com parâmetro 1/80 e as do\n",
        "método B seguem uma exponencial de parâmetro 1/100. Qual a probabilidade de\n",
        "que, se escolhermos uma lâmpada ao acaso, ela dure mais de 100 horas?\n",
        "\n",
        "> Resposta: 0,31"
      ]
    },
    {
      "cell_type": "code",
      "metadata": {
        "colab": {
          "base_uri": "https://localhost:8080/"
        },
        "id": "7FE97H9nbA1-",
        "outputId": "81ad4007-3a98-4045-8a8e-56350569a087"
      },
      "source": [
        "%%R\n",
        "\n",
        "# 1. Calcular P(X > 100) para A e B. \n",
        "# 2. Multiplicar as probabilidades pelo percentual de produção A*0,7 e B*0,3. \n",
        "# 3. Somar as probabilidades multiplicadas pelos percentuais de produção.\n",
        "\n",
        "pa = pexp(100, rate=1/80, lower.tail=FALSE, log.p=FALSE)\n",
        "pb = pexp(100, rate=1/100, lower.tail=FALSE, log.p=FALSE)\n",
        "\n",
        "print(pa)\n",
        "print(pb)\n",
        "\n",
        "p_result = (0.7 * pa) + (0.3 * pb)\n",
        "print(p_result)"
      ],
      "execution_count": null,
      "outputs": [
        {
          "output_type": "stream",
          "text": [
            "[1] 0.2865048\n",
            "[1] 0.3678794\n",
            "[1] 0.3109172\n"
          ],
          "name": "stdout"
        }
      ]
    },
    {
      "cell_type": "markdown",
      "metadata": {
        "id": "T_UuWa536uUc"
      },
      "source": [
        "## Questão 5\n",
        "\n",
        "O tempo de utilização de um caixa eletrônico por clientes de um certo banco, em\n",
        "minutos, foi modelado por uma variável T com distribuição exponencial com\n",
        "parâmetro igual a 3. Determine a probabilidade de que um cliente demore menos de\n",
        "um minuto utilizando o caixa eletrônico."
      ]
    },
    {
      "cell_type": "code",
      "metadata": {
        "colab": {
          "base_uri": "https://localhost:8080/"
        },
        "id": "nj_Vbc-uPCF8",
        "outputId": "b4e44eb5-0794-42b8-fcb7-0d9f788f0e7c"
      },
      "source": [
        "%%R\n",
        "\n",
        "# X: tempo de uso por cliente em minutos\n",
        "# rate = 3\n",
        "# P(T < 1 min) = P(T < 60 seg)\n",
        "\n",
        "rate = 3/60\n",
        "\n",
        "pexp(60, rate=rate, lower.tail=TRUE, log.p=FALSE)"
      ],
      "execution_count": null,
      "outputs": [
        {
          "output_type": "stream",
          "text": [
            "[1] 0.9502129\n"
          ],
          "name": "stdout"
        }
      ]
    },
    {
      "cell_type": "markdown",
      "metadata": {
        "id": "__bpyJGdzn-B"
      },
      "source": [
        "# Normal (VA Contínua)"
      ]
    },
    {
      "cell_type": "markdown",
      "metadata": {
        "id": "mLHhD1pN3H_Q"
      },
      "source": [
        "## Distribuição Normal\n",
        "\n",
        "**Utilizando o Microsoft Excel:**\n",
        "\n",
        "Distribuição normal para o cálculo de P(X<x) `=DIST.NORM.N(x;media;desvio padrão;VERDADEIRO)*`\n",
        "\n",
        "Informa o valor de x a partir de uma probabilidade `=INV.NORM.N(probabilidade;media;desvio padrão)`\n",
        "\n",
        "> *Os resultados exibidos mostrarão a probabilidade acumulada!\n",
        "\n",
        "**Utilizando o R:**\n",
        "\n",
        "Distribuição normal para o cálculo de P(X<=x) `pnorm(x, mean = m, sd = s, lower.tail = TRUE, log.p = FALSE)`\n",
        "\n",
        "Informa o valor de x a partir de uma probabilidade `qnorm(p, mean = m, sd = s, lower.tail = TRUE, log.p = FALSE)`\n",
        "\n",
        "onde:\n",
        "- m = média\n",
        "- s = desvio padrão\n",
        "- p = probabilidade a partir da qual deseja-se calcular o valor de x\n",
        "- `lower.tail=TRUE` → Fornece a - probabilidade acumulada → P(X<=x)\n",
        "- `lower.tail=FALSE` → Fornece a probabilidade acima de x → P(X>x)\n",
        "- `log=FALSE` → Fornece as probabilidades numéricas e não em escala logarítmica."
      ]
    },
    {
      "cell_type": "markdown",
      "metadata": {
        "id": "Z9y_bRgUzvQd"
      },
      "source": [
        "## Exemplo 2\n",
        "Dado que Z é uma variável aleatória normal padrão, ou seja, μ=0 e var=1,calcule as probabilidades à seguir:\n",
        "\n",
        "a. P(-1,5<Z<0)\n",
        "```\n",
        "P(-1,5<Z<0) = P(0<Z<1,5) = 0,4332\n",
        "```\n",
        "\n",
        "b. P(0<Z<0,83)\n",
        "```\n",
        "P(0<Z<0,83)=0,2967\n",
        "```\n",
        "\n",
        "c. P(Z>-0,23) 0,59095\n",
        "```\n",
        "P(Z>-0,23) = P(-0,23<Z<0) + 0,5 = 0,0910 + 0,5 = 0,5910\n",
        "\n",
        "```\n",
        "\n",
        "d. P(Z<1,20)\n",
        "```\n",
        "P(Z<1,20) = P(0<Z<1,20) + 0,5 = 0,3849 + 0,5 = 0,8849\n",
        "```\n",
        "\n",
        "e. P(-1,98<Z<0,49)\n",
        "```\n",
        "P(-1,98<Z<0,49) = P(-1,98<Z<0) + P(0<Z<0,49) =  0,4761 + 0,1879 = 0,6640\n",
        "```\n",
        "\n",
        "f. P(0,52<Z<1,22)\n",
        "```\n",
        "P(0,52<Z<1,22) = P(0<Z<1,22) - P(0<Z<0,52) = 0,3888 - 0,1985 = 0,1903\n",
        "```\n",
        "\n",
        "g. P(-1,75<Z<-1,04)\n",
        "```\n",
        "P(-1,75<Z<-1,04) = P(-1,75<Z<0) - P(-1,04<Z<0) = 0,4599 - 0,3508 = 0,1091\n",
        "```"
      ]
    },
    {
      "cell_type": "markdown",
      "metadata": {
        "id": "JrMxmxJSAp6f"
      },
      "source": [
        "## Exemplo 3\n",
        "\n",
        "Suponha que as medidas da corrente em um pedaço de fio sigam a distribuição\n",
        "normal, com um média de 10 miliamperes e uma variância de 5 miliamperes. Qual a\n",
        "probabilidade:\n",
        "\n",
        "> Como temos uma variável (X: medida da corrente em um pedaço de fio) com distribuição normal com μ=10 e var =5, é necessário padroniza-la para poder consultar as probabilidades disponíveis na tabela da distribuição normal padrão. A padronização de uma variável X ~ N (média, var) em uma variável Z ~ N(0, 1) é realizada efetuando o seguinte cálculo:\n",
        "\n",
        "`z = (x - med)/dp`\n",
        "\n",
        "a) Da medida da corrente ser de no máximo 12 miliamperes.\n",
        "```\n",
        "P(X ≤ 12) \n",
        "= P (Z ≤ (12 − 10)/√5) \n",
        "= P(Z ≤ 0,89) \n",
        "= 0,5 + 0,3133 \n",
        "= 0,8133\n",
        "```\n",
        "\n",
        "b) Da medida da corrente ser de pelo menos 13 miliamperes.\n",
        "```\n",
        "P(X ≥ 13) \n",
        "= P (Z ≥ (13 − 10)/√5) \n",
        "= P(Z ≥ 1,34) \n",
        "= 0,5 − 0,4099 \n",
        "= 0,0901\n",
        "```\n",
        "\n",
        "c) Um valor entre 9 e 11 miliamperes.\n",
        "```\n",
        "P(9 < X < 11) \n",
        "= P ((9 − 10)/√5 < Z < (11 − 10)/√5) \n",
        "= P(−0,45 < Z < +0,45) \n",
        "= 0,1736 + 0,1736 \n",
        "= 0,3472\n",
        "```\n",
        "\n",
        "d) Maior do que 8 miliamperes.\n",
        "```\n",
        "P(X > 8)\n",
        "= P (Z > (8 − 10)/√5)\n",
        "= P(Z > −0,89) \n",
        "= 0,5 + 0,3133 \n",
        "= 0,8133\n",
        "```"
      ]
    },
    {
      "cell_type": "code",
      "metadata": {
        "colab": {
          "base_uri": "https://localhost:8080/"
        },
        "id": "j02zrh9TFGEA",
        "outputId": "f42f042a-09d2-419e-c3ca-fe4377959125"
      },
      "source": [
        "%%R\n",
        "# X = medida de corrente em miliamperes\n",
        "media = 10\n",
        "var = 5\n",
        "sd = sqrt(5) # 2.236068\n",
        "sd"
      ],
      "execution_count": null,
      "outputs": [
        {
          "output_type": "stream",
          "text": [
            "[1] 2.236068\n"
          ],
          "name": "stdout"
        }
      ]
    },
    {
      "cell_type": "code",
      "metadata": {
        "colab": {
          "base_uri": "https://localhost:8080/"
        },
        "id": "VM1kPIo8zwLl",
        "outputId": "d9e10409-798a-468b-a0ba-f2fd4b8f4f67"
      },
      "source": [
        "%%R\n",
        "#a\n",
        "#P(X<=12)\n",
        "\n",
        "# Excel \n",
        "# =DIST.NORM.N(12;10;2,2361;VERDADEIRO)\n",
        "\n",
        "pnorm(12, mean=10, sd=2.2361, lower.tail=TRUE, log.p=FALSE)"
      ],
      "execution_count": null,
      "outputs": [
        {
          "output_type": "stream",
          "text": [
            "[1] 0.8144499\n"
          ],
          "name": "stdout"
        }
      ]
    },
    {
      "cell_type": "code",
      "metadata": {
        "colab": {
          "base_uri": "https://localhost:8080/"
        },
        "id": "m5zHNJ5C4ktg",
        "outputId": "6c48a14d-5c9b-40e3-cd16-a34d1edd802d"
      },
      "source": [
        "%%R\n",
        "#b\n",
        "\n",
        "# P(X>13)= 1-P(X<13)\n",
        "\n",
        "# Excel\n",
        "# = 1 - DIST.NORM.N(13;10;2,2361;VERDADEIRO)\n",
        "\n",
        "p_result = pnorm(13, mean=10, sd=2.2361, lower.tail=FALSE, log.p=FALSE)\n",
        "print(p_result)\n",
        "\n",
        "round(p_result, digits =3)"
      ],
      "execution_count": null,
      "outputs": [
        {
          "output_type": "stream",
          "text": [
            "[1] 0.08985936\n",
            "[1] 0.09\n"
          ],
          "name": "stdout"
        }
      ]
    },
    {
      "cell_type": "code",
      "metadata": {
        "colab": {
          "base_uri": "https://localhost:8080/"
        },
        "id": "ZDHcyyoI5E6N",
        "outputId": "f8e0313a-de5a-4836-dd10-aa9d2f33b94d"
      },
      "source": [
        "%%R\n",
        "#c\n",
        "\n",
        "# P(9<X<11)= P(X<11) - P(X<9)\n",
        "\n",
        "# Excel\n",
        "# =DIST.NORM.N(11;10;2,2361;VERDADEIRO)\n",
        "# =DIST.NORM.N(9;10;2,2361;VERDADEIRO)\n",
        "# Resultado final= 0,672637-0,327363= 0,345274\n",
        "\n",
        "\n",
        "p11 <- pnorm(11, mean=10, sd=2.2361, lower.tail=TRUE, log.p=FALSE)\n",
        "p9 <- pnorm(9, mean=10, sd=2.2361, lower.tail=TRUE, log.p=FALSE)\n",
        "print(p11)\n",
        "print(p9)\n",
        "result = p11 - p9 \n",
        "result\n",
        "\n"
      ],
      "execution_count": null,
      "outputs": [
        {
          "output_type": "stream",
          "text": [
            "[1] 0.6726373\n",
            "[1] 0.3273627\n",
            "[1] 0.3452745\n"
          ],
          "name": "stdout"
        }
      ]
    },
    {
      "cell_type": "code",
      "metadata": {
        "colab": {
          "base_uri": "https://localhost:8080/"
        },
        "id": "UB_oag6y5tYS",
        "outputId": "8e79d90a-42d5-41d7-9515-0f1ba3e0828f"
      },
      "source": [
        "%%R\n",
        "#d\n",
        "# P(X>8)= 1- P(X<8)\n",
        "\n",
        "#Excel\n",
        "# = 1 - DIST.NORM.N(8;10;2,2361;VERDADEIRO)\n",
        "\n",
        "pnorm(8, mean=10, sd=2.2361, lower.tail=FALSE, log.p=FALSE)"
      ],
      "execution_count": null,
      "outputs": [
        {
          "output_type": "stream",
          "text": [
            "[1] 0.8144499\n"
          ],
          "name": "stdout"
        }
      ]
    },
    {
      "cell_type": "markdown",
      "metadata": {
        "id": "jUIqKCIB1eW0"
      },
      "source": [
        "## Exercício 3\n",
        "Considere que a pontuação obtida por diferentes candidatos em um concurso\n",
        "público segue uma distribuição aproximadamente normal, com média igual a 140\n",
        "pontos e desvio padrão igual a 20 pontos. Suponha que um candidato é escolhido\n",
        "ao acaso. Calcule as probabilidades a seguir:\n",
        "\n",
        "a) Apresentar uma pontuação entre 140 e 165,6.\n",
        "\n",
        "b) Apresentar uma pontuação entre 127,4 e 140.\n",
        "\n",
        "c) Apresentar uma pontuação entre 117,2 e 157.\n",
        "\n",
        "d) Apresentar uma pontuação inferior a 127.\n",
        "\n",
        "e) Apresentar uma pontuação superior a 174,2.\n",
        "\n",
        "f) Apresentar uma pontuação inferior a 167,4.\n",
        "\n",
        "g) Apresentar uma pontuação entre 155,4 e 168,4.\n",
        "\n",
        "> Respostas: a) 0,3997 b) 0,2357 c) 0,6752 d) 0,2578 e) 0,0436 f) 0,9147 g) 0,1428"
      ]
    },
    {
      "cell_type": "code",
      "metadata": {
        "id": "Wgycye3h1lgq"
      },
      "source": [
        "%%R\n",
        "# X = pontualção concurso\n",
        "media <- 140\n",
        "sd = 20"
      ],
      "execution_count": null,
      "outputs": []
    },
    {
      "cell_type": "code",
      "metadata": {
        "colab": {
          "base_uri": "https://localhost:8080/"
        },
        "id": "Y3d2Li5dKJx5",
        "outputId": "0b5ce23e-b14a-4468-97fe-4226ade06312"
      },
      "source": [
        "%%R\n",
        "# a\n",
        "\n",
        "# P(140 < X <= 165,6) = P(X <= 165,6) - P(X <= 140)\n",
        "\n",
        "p165 = pnorm(165.6, mean=140, sd=20, lower.tail=TRUE, log.p=FALSE)\n",
        "p140 = pnorm(140, mean=140, sd=20, lower.tail=TRUE, log.p=FALSE)\n",
        "\n",
        "p_result = p165 - p140\n",
        "p_result"
      ],
      "execution_count": null,
      "outputs": [
        {
          "output_type": "stream",
          "text": [
            "[1] 0.3997274\n"
          ],
          "name": "stdout"
        }
      ]
    },
    {
      "cell_type": "code",
      "metadata": {
        "colab": {
          "base_uri": "https://localhost:8080/"
        },
        "id": "_vpASs76LIfw",
        "outputId": "326d57f5-a579-45f0-cac3-f9e6d1b30604"
      },
      "source": [
        "%%R\n",
        "# b\n",
        "\n",
        "# P(127,4 < X < 140) = P(X <= 140) - P(X <= 127.4)\n",
        "\n",
        "p140 = pnorm(140, mean=140, sd=20, lower.tail=TRUE, log.p=FALSE)\n",
        "p127 = pnorm(127.4, mean=140, sd=20, lower.tail=TRUE, log.p=FALSE)\n",
        "\n",
        "\n",
        "p_result = p140 - p127\n",
        "p_result"
      ],
      "execution_count": null,
      "outputs": [
        {
          "output_type": "stream",
          "text": [
            "[1] 0.2356527\n"
          ],
          "name": "stdout"
        }
      ]
    },
    {
      "cell_type": "code",
      "metadata": {
        "colab": {
          "base_uri": "https://localhost:8080/"
        },
        "id": "0fdrAY6pLyzV",
        "outputId": "b44aa4b4-fa12-40fc-882e-c75f57a512c7"
      },
      "source": [
        "%%R\n",
        "# c\n",
        "\n",
        "# P(117,2 < X < 157) = P(X <= 157) - P(X <= 117.2)\n",
        "\n",
        "p157 = pnorm(157, mean=140, sd=20, lower.tail=TRUE, log.p=FALSE)\n",
        "p117 = pnorm(117.2, mean=140, sd=20, lower.tail=TRUE, log.p=FALSE)\n",
        "\n",
        "p_result = p157 - p117\n",
        "p_result"
      ],
      "execution_count": null,
      "outputs": [
        {
          "output_type": "stream",
          "text": [
            "[1] 0.6751943\n"
          ],
          "name": "stdout"
        }
      ]
    },
    {
      "cell_type": "code",
      "metadata": {
        "colab": {
          "base_uri": "https://localhost:8080/"
        },
        "id": "Ar7dgR2iL12o",
        "outputId": "c7859ce2-c31c-4fb8-bd18-abd83518ad3c"
      },
      "source": [
        "%%R\n",
        "# d\n",
        "\n",
        "# P(X <= 127)\n",
        "\n",
        "pnorm(127, mean=140, sd=20, lower.tail=TRUE, log.p=FALSE)"
      ],
      "execution_count": null,
      "outputs": [
        {
          "output_type": "stream",
          "text": [
            "[1] 0.2578461\n"
          ],
          "name": "stdout"
        }
      ]
    },
    {
      "cell_type": "code",
      "metadata": {
        "colab": {
          "base_uri": "https://localhost:8080/"
        },
        "id": "uFPLaO_6L1_v",
        "outputId": "8ee6e43c-944b-4fd7-8bbf-b38bfee23a41"
      },
      "source": [
        "%%R\n",
        "# e\n",
        "\n",
        "# P(X > 174.2)\n",
        "pnorm(174.2, mean=140, sd=20, lower.tail=FALSE, log.p=FALSE)"
      ],
      "execution_count": null,
      "outputs": [
        {
          "output_type": "stream",
          "text": [
            "[1] 0.04363294\n"
          ],
          "name": "stdout"
        }
      ]
    },
    {
      "cell_type": "code",
      "metadata": {
        "colab": {
          "base_uri": "https://localhost:8080/"
        },
        "id": "58FyOqJ9L246",
        "outputId": "ce6b0e52-25be-4382-8128-a0890ef8a367"
      },
      "source": [
        "%%R\n",
        "# f\n",
        "\n",
        "# P(X <= 167.4)\n",
        "\n",
        "pnorm(167.4, mean=140, sd=20, lower.tail=TRUE, log.p=FALSE)"
      ],
      "execution_count": null,
      "outputs": [
        {
          "output_type": "stream",
          "text": [
            "[1] 0.9146565\n"
          ],
          "name": "stdout"
        }
      ]
    },
    {
      "cell_type": "code",
      "metadata": {
        "colab": {
          "base_uri": "https://localhost:8080/"
        },
        "id": "u7Dykm_PL2_v",
        "outputId": "ed246415-a6c7-4e07-f361-d520eba40ce7"
      },
      "source": [
        "%%R\n",
        "# g\n",
        "\n",
        "# P(155.4 < X < 168.4) = P(X <= 168.4) - P(X <= 155.4)\n",
        "\n",
        "p168 <- pnorm(168.4, mean=140, sd=20, lower.tail=TRUE, log.p=FALSE)\n",
        "p155 <- pnorm(155.4, mean=140, sd=20, lower.tail=TRUE, log.p=FALSE)\n",
        "\n",
        "p_result <- p168 - p155\n",
        "p_result"
      ],
      "execution_count": null,
      "outputs": [
        {
          "output_type": "stream",
          "text": [
            "[1] 0.1428461\n"
          ],
          "name": "stdout"
        }
      ]
    },
    {
      "cell_type": "markdown",
      "metadata": {
        "id": "0o95I4t91lsr"
      },
      "source": [
        "## Exercício 4\n",
        "As vendas diárias de um mercado de bairro seguem, aproximadamente, uma\n",
        "distribuição normal, com média igual a R$ 5.000,00 e desvio padrão igual a\n",
        " 2.000,00. Calcule a probabilidade de que, em um determinado dia, as vendas:\n",
        "\n",
        "a) Sejam superiores a R$ 3.500,00?\n",
        "\n",
        "b) Sejam inferiores a R$ 3.000,00?\n",
        "\n",
        "c) Estejam entre R$ 3.800,00 e 5.300,00?\n",
        "\n",
        "d) Estejam entre R$ 2.100,00 e 7.800,00?\n",
        "\n",
        "> Respostas: a) 0,7734 b) 0,1587 c) 0,2854 d) 0,8457"
      ]
    },
    {
      "cell_type": "code",
      "metadata": {
        "id": "bPiLUSIXL88q"
      },
      "source": [
        "%%R\n",
        "# X = vendas diárias\n",
        "media <- 5000\n",
        "sd <- 2000"
      ],
      "execution_count": null,
      "outputs": []
    },
    {
      "cell_type": "code",
      "metadata": {
        "colab": {
          "base_uri": "https://localhost:8080/"
        },
        "id": "AwAd1P9FL9Fa",
        "outputId": "228d2845-263b-4bf0-8264-d767905c7828"
      },
      "source": [
        "%%R\n",
        "# a\n",
        "\n",
        "# P(X > 3500)\n",
        "\n",
        "pnorm(3500, mean=5000, sd=2000, lower.tail=FALSE, log.p=FALSE)"
      ],
      "execution_count": null,
      "outputs": [
        {
          "output_type": "stream",
          "text": [
            "[1] 0.7733726\n"
          ],
          "name": "stdout"
        }
      ]
    },
    {
      "cell_type": "code",
      "metadata": {
        "colab": {
          "base_uri": "https://localhost:8080/"
        },
        "id": "sTcbkjfsL9Me",
        "outputId": "cd27f1fb-6ffb-482c-fb94-495ef0f85d35"
      },
      "source": [
        "%%R\n",
        "# b\n",
        "\n",
        "# P(X < 3000)\n",
        "\n",
        "pnorm(3000, mean=5000, sd=2000, lower.tail=TRUE, log.p=FALSE)"
      ],
      "execution_count": null,
      "outputs": [
        {
          "output_type": "stream",
          "text": [
            "[1] 0.1586553\n"
          ],
          "name": "stdout"
        }
      ]
    },
    {
      "cell_type": "code",
      "metadata": {
        "colab": {
          "base_uri": "https://localhost:8080/"
        },
        "id": "OCEwtduaL9US",
        "outputId": "e94fd2bb-135f-4f20-b43c-800337b28c93"
      },
      "source": [
        "%%R\n",
        "# c\n",
        "\n",
        "# P(3800 < X < 5300) = P(X < 5300) - P(X < 3800)\n",
        "\n",
        "p5300 <- pnorm(5300, mean=5000, sd=2000, lower.tail=TRUE, log.p=FALSE)\n",
        "p3800 <- pnorm(3800, mean=5000, sd=2000, lower.tail=TRUE, log.p=FALSE)\n",
        "\n",
        "p_result <- p5300 - p3800\n",
        "p_result"
      ],
      "execution_count": null,
      "outputs": [
        {
          "output_type": "stream",
          "text": [
            "[1] 0.2853646\n"
          ],
          "name": "stdout"
        }
      ]
    },
    {
      "cell_type": "code",
      "metadata": {
        "colab": {
          "base_uri": "https://localhost:8080/"
        },
        "id": "KPqWwb2cL9cO",
        "outputId": "ea1e8c8d-ba08-42b0-bbce-070a7a11181c"
      },
      "source": [
        "%%R\n",
        "# d\n",
        "\n",
        "# P(2100 < X < 7800) = P(X < 7800) - P(X < 2100)\n",
        "\n",
        "p7800 <- pnorm(7800, mean=5000, sd=2000, lower.tail=TRUE, log.p=FALSE)\n",
        "p2100 <- pnorm(2100, mean=5000, sd=2000, lower.tail=TRUE, log.p=FALSE)\n",
        "\n",
        "p_result <- p7800 - p2100\n",
        "p_result"
      ],
      "execution_count": null,
      "outputs": [
        {
          "output_type": "stream",
          "text": [
            "[1] 0.8457141\n"
          ],
          "name": "stdout"
        }
      ]
    },
    {
      "cell_type": "markdown",
      "metadata": {
        "id": "LVcDYsbxRuC0"
      },
      "source": [
        "## Exemplo 4\n",
        "\n",
        "As notas dos candidatos a um concurso\n",
        "público estão normalmente distribuídas com\n",
        "uma média de 75 pontos e um desvio padrão\n",
        "de 6,5 pontos. Para poder entrar no serviço\n",
        "público, o candidato precisa figurar entre os\n",
        "5% melhores. \n",
        "\n",
        "\n",
        "a) Qual é a menor pontuação possível para a aprovação de um candidato?\n",
        "\n",
        "b) Abaixo de que nota encontram-se 10% dos candidatos com menor pontuação?\n",
        "\n",
        "c) Acima de que nota encontram-se 25% dos candidatos?\n",
        "\n",
        "d) Abaixo de que nota encontram-se 40% dos candidatos?\n",
        "\n",
        "> a) 85.69 b) 66.7 c) 79.4 d) 73.35\n"
      ]
    },
    {
      "cell_type": "code",
      "metadata": {
        "colab": {
          "base_uri": "https://localhost:8080/"
        },
        "id": "fk6YsKY8Swfj",
        "outputId": "7450e8e0-4421-422c-b2ba-1b8211d86406"
      },
      "source": [
        "%%R\n",
        "# a\n",
        "\n",
        "qnorm(0.05, mean=75, sd=6.5, lower.tail=FALSE, log.p=FALSE)"
      ],
      "execution_count": null,
      "outputs": [
        {
          "output_type": "stream",
          "text": [
            "[1] 85.69155\n"
          ],
          "name": "stdout"
        }
      ]
    },
    {
      "cell_type": "code",
      "metadata": {
        "colab": {
          "base_uri": "https://localhost:8080/"
        },
        "id": "VpxX_lORTjyA",
        "outputId": "2d3e7627-0dce-43db-b715-87cf87fbf8c3"
      },
      "source": [
        "%%R\n",
        "# b\n",
        "\n",
        "qnorm(0.1, mean=75, sd=6.5, lower.tail=TRUE, log.p=FALSE)"
      ],
      "execution_count": null,
      "outputs": [
        {
          "output_type": "stream",
          "text": [
            "[1] 66.66991\n"
          ],
          "name": "stdout"
        }
      ]
    },
    {
      "cell_type": "code",
      "metadata": {
        "colab": {
          "base_uri": "https://localhost:8080/"
        },
        "id": "pYXdaRXJUAnL",
        "outputId": "5807a846-768c-4584-e598-de6225e8b688"
      },
      "source": [
        "%%R\n",
        "# c\n",
        "\n",
        "qnorm(0.25, mean=75, sd=6.5, lower.tail=FALSE, log.p=FALSE)"
      ],
      "execution_count": null,
      "outputs": [
        {
          "output_type": "stream",
          "text": [
            "[1] 79.38418\n"
          ],
          "name": "stdout"
        }
      ]
    },
    {
      "cell_type": "code",
      "metadata": {
        "colab": {
          "base_uri": "https://localhost:8080/"
        },
        "id": "m7NlUdj_UBAL",
        "outputId": "f4701d23-ff39-4f41-864b-14a01c2f0fcb"
      },
      "source": [
        "%%R\n",
        "# d\n",
        "\n",
        "qnorm(0.4, mean=75, sd=6.5, lower.tail=TRUE, log.p=FALSE)"
      ],
      "execution_count": null,
      "outputs": [
        {
          "output_type": "stream",
          "text": [
            "[1] 73.35324\n"
          ],
          "name": "stdout"
        }
      ]
    },
    {
      "cell_type": "markdown",
      "metadata": {
        "id": "wIn8UPG49EOS"
      },
      "source": [
        "## Questão 6\n",
        "\n",
        "(Stevenson, 2001) A vida útil de lavadoras de pratos automáticas pode ser\n",
        "modelada pela distribuição normal com uma média de 1,5 ano e com desvio padrão\n",
        "de 0,3 ano. Que percentagem das lavadoras vendidas necessitará de conserto antes\n",
        "de expirar o tempo de garantia de 12 meses?"
      ]
    },
    {
      "cell_type": "code",
      "metadata": {
        "colab": {
          "base_uri": "https://localhost:8080/"
        },
        "id": "FtI1PO2h9HJx",
        "outputId": "f6ecbf05-7b28-4424-a835-746dfe6e1a5c"
      },
      "source": [
        "%%R\n",
        "\n",
        "# P(X < 1)\n",
        "\n",
        "pnorm(1, mean=1.5, sd=0.3, lower.tail=TRUE, log.p=FALSE)"
      ],
      "execution_count": null,
      "outputs": [
        {
          "output_type": "stream",
          "text": [
            "[1] 0.04779035\n"
          ],
          "name": "stdout"
        }
      ]
    },
    {
      "cell_type": "markdown",
      "metadata": {
        "id": "qIwHScszCmJZ"
      },
      "source": [
        "## Questão 7\n",
        "\n",
        "(Magalhães, 2002) Uma clínica de emagrecimento recebe pacientes adultos com\n",
        "peso seguindo uma distribuição normal com média 130 kg e desvio padrão 20 kg.\n",
        "Para efeito de determinar o tratamento mais adequado, os 25% pacientes de menor\n",
        "peso são classificados de “magros”, enquanto dos 25% de maior peso de “obesos”.\n",
        "Determine os valores que delimitam cada uma dessas classificações."
      ]
    },
    {
      "cell_type": "code",
      "metadata": {
        "colab": {
          "base_uri": "https://localhost:8080/"
        },
        "id": "iOvwIZYwCoZ1",
        "outputId": "a73e7281-ddd7-40dc-8a30-e9448458e9ce"
      },
      "source": [
        "%%R\n",
        "\n",
        "peso_magro <- qnorm(0.25, mean=130, sd=20, lower.tail=TRUE, log.p=FALSE)\n",
        "peso_obeso <- qnorm(0.25, mean=130, sd=20, lower.tail=FALSE, log.p=FALSE)\n",
        "\n",
        "print(peso_magro)\n",
        "print(peso_obeso)"
      ],
      "execution_count": null,
      "outputs": [
        {
          "output_type": "stream",
          "text": [
            "[1] 116.5102\n",
            "[1] 143.4898\n"
          ],
          "name": "stdout"
        }
      ]
    },
    {
      "cell_type": "markdown",
      "metadata": {
        "id": "yVokAYHVE57t"
      },
      "source": [
        "## Questão 8\n",
        "\n",
        "Uma companhia fabrica motores. As especificações requerem que o comprimento de\n",
        "uma certa haste deste motor esteja entre 7,48 cm e 7,52 cm. Os comprimentos\n",
        "destas hastes, fabricadas por um fornecedor, têm uma distribuição normal com\n",
        "média 7,505 cm e desvio padrão 0,01 cm. Qual a probabilidade de uma haste\n",
        "escolhida ao acaso estar dentro das especificações?"
      ]
    },
    {
      "cell_type": "code",
      "metadata": {
        "colab": {
          "base_uri": "https://localhost:8080/"
        },
        "id": "5rkS8YQhE8QS",
        "outputId": "fbd1caa6-1f3e-4e51-955a-eac57cbec0c4"
      },
      "source": [
        "%%R\n",
        "# mean = 7.505\n",
        "# sd = 0.01\n",
        "# P(7.48 < X < 7.52) = P(X < 7.52) - P(X < 7.48)\n",
        "\n",
        "p_min <- pnorm(7.48, mean=7.505, sd=0.01, lower.tail=TRUE, log.p=FALSE)\n",
        "p_max <- pnorm(7.52, mean=7.505, sd=0.01, lower.tail=TRUE, log.p=FALSE)\n",
        "\n",
        "p_result  = p_max - p_min\n",
        "p_result"
      ],
      "execution_count": null,
      "outputs": [
        {
          "output_type": "stream",
          "text": [
            "[1] 0.9269831\n"
          ],
          "name": "stdout"
        }
      ]
    },
    {
      "cell_type": "markdown",
      "metadata": {
        "id": "n_zRS26JIc2q"
      },
      "source": [
        "## Questão 10\n",
        "\n",
        "A distribuição da altura de 500 estudantes do sexo masculino de uma escola é\n",
        "aproximadamente Normal com média igual a 1,70 metro e desvio padrão igual a 2,5\n",
        "centímetros. Aproximadamente quantos têm altura superior a 1,65m?"
      ]
    },
    {
      "cell_type": "code",
      "metadata": {
        "colab": {
          "base_uri": "https://localhost:8080/"
        },
        "id": "71uj0TrXIetV",
        "outputId": "1e071218-19c5-45d4-a9ff-10103fc011d6"
      },
      "source": [
        "%%R\n",
        "\n",
        "# X: altura de estudantes do sexo masculino\n",
        "\n",
        "n <- 500\n",
        "mean <- 1.7 #m -> 170 cm\n",
        "dp <- 2.5 #cm\n",
        "\n",
        "# P(X > 165)\n",
        "\n",
        "p <- pnorm(165, mean=170, sd=2.5, lower.tail=FALSE, log.p=FALSE)\n",
        "print(p)\n",
        "\n",
        "total_students = 500 * p\n",
        "total_students"
      ],
      "execution_count": null,
      "outputs": [
        {
          "output_type": "stream",
          "text": [
            "[1] 0.9772499\n",
            "[1] 488.6249\n"
          ],
          "name": "stdout"
        }
      ]
    }
  ]
}